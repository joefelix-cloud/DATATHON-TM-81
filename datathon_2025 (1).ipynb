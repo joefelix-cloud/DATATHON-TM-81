{
  "nbformat": 4,
  "nbformat_minor": 0,
  "metadata": {
    "colab": {
      "provenance": []
    },
    "kernelspec": {
      "name": "python3",
      "display_name": "Python 3"
    },
    "language_info": {
      "name": "python"
    }
  },
  "cells": [
    {
      "cell_type": "code",
      "source": [
        "from google.colab import drive\n",
        "drive.mount('/content/drive')"
      ],
      "metadata": {
        "id": "YVtj3TADe0rO",
        "colab": {
          "base_uri": "https://localhost:8080/"
        },
        "outputId": "f8caf34a-1eba-4abe-e709-a827cbe43962"
      },
      "execution_count": 146,
      "outputs": [
        {
          "output_type": "stream",
          "name": "stdout",
          "text": [
            "Drive already mounted at /content/drive; to attempt to forcibly remount, call drive.mount(\"/content/drive\", force_remount=True).\n"
          ]
        }
      ]
    },
    {
      "cell_type": "code",
      "source": [
        "import pandas as pd\n",
        "import tensorflow as tf\n",
        "import matplotlib.pyplot as plt\n",
        "import numpy as np\n",
        "import seaborn as sns\n",
        "from sklearn.preprocessing import StandardScaler\n",
        "from imblearn.over_sampling import RandomOverSampler\n",
        "from sklearn.compose import ColumnTransformer\n",
        "from sklearn.pipeline import Pipeline\n",
        "from sklearn.model_selection import train_test_split\n",
        "from sklearn.metrics import confusion_matrix\n"
      ],
      "metadata": {
        "id": "z59xkMvIBO9m"
      },
      "execution_count": null,
      "outputs": []
    },
    {
      "cell_type": "code",
      "source": [
        "df = pd.read_excel('/content/CTG.xls', sheet_name='Data', header = 1)\n",
        "df"
      ],
      "metadata": {
        "id": "PTKIVqNKE-M3"
      },
      "execution_count": null,
      "outputs": []
    },
    {
      "cell_type": "code",
      "source": [
        "df = pd.read_excel('/content/CTG.xls', sheet_name='Data', header = 1)\n",
        "df = df.iloc[:, list(range(0, 9)) + list(range(10, 31)) + [45]]\n",
        "df = df.drop([2126, 2127, 2128])\n",
        "\n",
        "# Assign new column names\n",
        "df.columns = ['b', 'e', 'AC', 'FM', 'UC', 'DL', 'DS', 'DP', 'DR', 'LB', 'UC.1', 'AC.1', 'FM.1', 'DL.1', 'DS.1', 'DP.1', 'ASTV','MSTV', 'ALTV', 'MLTV', 'Width', 'Min', 'Max', 'Nmax', 'Nzeros', 'Mode', 'Mean', 'Median', 'Variance', 'Tendency', 'NSP']\n",
        "\n",
        "# Handle potential duplicate column names like UC AC and other\n",
        "cols = pd.Series(df.columns)\n",
        "for dup in cols[cols.duplicated()].unique():\n",
        "    cols[cols[cols == dup].index.values.tolist()] = [dup + '_' + str(i) if i != 0 else dup for i in range(sum(cols == dup))]\n",
        "df.columns = cols\n",
        "\n",
        "df = df.drop_duplicates()\n",
        "df"
      ],
      "metadata": {
        "id": "Yxp9PdrT2egh",
        "colab": {
          "base_uri": "https://localhost:8080/",
          "height": 443
        },
        "outputId": "f3a724d4-e1e7-45f6-8906-440e556e40bc"
      },
      "execution_count": 160,
      "outputs": [
        {
          "output_type": "execute_result",
          "data": {
            "text/plain": [
              "           b       e   AC   FM   UC   DL   DS   DP   DR     LB  ...    Min  \\\n",
              "0      240.0   357.0  0.0  0.0  0.0  0.0  0.0  0.0  0.0  120.0  ...   62.0   \n",
              "1        5.0   632.0  4.0  0.0  4.0  2.0  0.0  0.0  0.0  132.0  ...   68.0   \n",
              "2      177.0   779.0  2.0  0.0  5.0  2.0  0.0  0.0  0.0  133.0  ...   68.0   \n",
              "3      411.0  1192.0  2.0  0.0  6.0  2.0  0.0  0.0  0.0  134.0  ...   53.0   \n",
              "4      533.0  1147.0  4.0  0.0  5.0  0.0  0.0  0.0  0.0  132.0  ...   53.0   \n",
              "...      ...     ...  ...  ...  ...  ...  ...  ...  ...    ...  ...    ...   \n",
              "2121  2059.0  2867.0  0.0  0.0  6.0  0.0  0.0  0.0  0.0  140.0  ...  137.0   \n",
              "2122  1576.0  2867.0  1.0  0.0  9.0  0.0  0.0  0.0  0.0  140.0  ...  103.0   \n",
              "2123  1576.0  2596.0  1.0  0.0  7.0  0.0  0.0  0.0  0.0  140.0  ...  103.0   \n",
              "2124  1576.0  3049.0  1.0  0.0  9.0  0.0  0.0  0.0  0.0  140.0  ...  103.0   \n",
              "2125  2796.0  3415.0  1.0  1.0  5.0  0.0  0.0  0.0  0.0  142.0  ...  117.0   \n",
              "\n",
              "        Max  Nmax  Nzeros   Mode   Mean  Median  Variance  Tendency  NSP  \n",
              "0     126.0   2.0     0.0  120.0  137.0   121.0      73.0       1.0  2.0  \n",
              "1     198.0   6.0     1.0  141.0  136.0   140.0      12.0       0.0  1.0  \n",
              "2     198.0   5.0     1.0  141.0  135.0   138.0      13.0       0.0  1.0  \n",
              "3     170.0  11.0     0.0  137.0  134.0   137.0      13.0       1.0  1.0  \n",
              "4     170.0   9.0     0.0  137.0  136.0   138.0      11.0       1.0  1.0  \n",
              "...     ...   ...     ...    ...    ...     ...       ...       ...  ...  \n",
              "2121  177.0   4.0     0.0  153.0  150.0   152.0       2.0       0.0  2.0  \n",
              "2122  169.0   6.0     0.0  152.0  148.0   151.0       3.0       1.0  2.0  \n",
              "2123  170.0   5.0     0.0  153.0  148.0   152.0       4.0       1.0  2.0  \n",
              "2124  169.0   6.0     0.0  152.0  147.0   151.0       4.0       1.0  2.0  \n",
              "2125  159.0   2.0     1.0  145.0  143.0   145.0       1.0       0.0  1.0  \n",
              "\n",
              "[2115 rows x 31 columns]"
            ],
            "text/html": [
              "\n",
              "  <div id=\"df-819e4331-6bf1-491b-95e9-ab0942d59976\" class=\"colab-df-container\">\n",
              "    <div>\n",
              "<style scoped>\n",
              "    .dataframe tbody tr th:only-of-type {\n",
              "        vertical-align: middle;\n",
              "    }\n",
              "\n",
              "    .dataframe tbody tr th {\n",
              "        vertical-align: top;\n",
              "    }\n",
              "\n",
              "    .dataframe thead th {\n",
              "        text-align: right;\n",
              "    }\n",
              "</style>\n",
              "<table border=\"1\" class=\"dataframe\">\n",
              "  <thead>\n",
              "    <tr style=\"text-align: right;\">\n",
              "      <th></th>\n",
              "      <th>b</th>\n",
              "      <th>e</th>\n",
              "      <th>AC</th>\n",
              "      <th>FM</th>\n",
              "      <th>UC</th>\n",
              "      <th>DL</th>\n",
              "      <th>DS</th>\n",
              "      <th>DP</th>\n",
              "      <th>DR</th>\n",
              "      <th>LB</th>\n",
              "      <th>...</th>\n",
              "      <th>Min</th>\n",
              "      <th>Max</th>\n",
              "      <th>Nmax</th>\n",
              "      <th>Nzeros</th>\n",
              "      <th>Mode</th>\n",
              "      <th>Mean</th>\n",
              "      <th>Median</th>\n",
              "      <th>Variance</th>\n",
              "      <th>Tendency</th>\n",
              "      <th>NSP</th>\n",
              "    </tr>\n",
              "  </thead>\n",
              "  <tbody>\n",
              "    <tr>\n",
              "      <th>0</th>\n",
              "      <td>240.0</td>\n",
              "      <td>357.0</td>\n",
              "      <td>0.0</td>\n",
              "      <td>0.0</td>\n",
              "      <td>0.0</td>\n",
              "      <td>0.0</td>\n",
              "      <td>0.0</td>\n",
              "      <td>0.0</td>\n",
              "      <td>0.0</td>\n",
              "      <td>120.0</td>\n",
              "      <td>...</td>\n",
              "      <td>62.0</td>\n",
              "      <td>126.0</td>\n",
              "      <td>2.0</td>\n",
              "      <td>0.0</td>\n",
              "      <td>120.0</td>\n",
              "      <td>137.0</td>\n",
              "      <td>121.0</td>\n",
              "      <td>73.0</td>\n",
              "      <td>1.0</td>\n",
              "      <td>2.0</td>\n",
              "    </tr>\n",
              "    <tr>\n",
              "      <th>1</th>\n",
              "      <td>5.0</td>\n",
              "      <td>632.0</td>\n",
              "      <td>4.0</td>\n",
              "      <td>0.0</td>\n",
              "      <td>4.0</td>\n",
              "      <td>2.0</td>\n",
              "      <td>0.0</td>\n",
              "      <td>0.0</td>\n",
              "      <td>0.0</td>\n",
              "      <td>132.0</td>\n",
              "      <td>...</td>\n",
              "      <td>68.0</td>\n",
              "      <td>198.0</td>\n",
              "      <td>6.0</td>\n",
              "      <td>1.0</td>\n",
              "      <td>141.0</td>\n",
              "      <td>136.0</td>\n",
              "      <td>140.0</td>\n",
              "      <td>12.0</td>\n",
              "      <td>0.0</td>\n",
              "      <td>1.0</td>\n",
              "    </tr>\n",
              "    <tr>\n",
              "      <th>2</th>\n",
              "      <td>177.0</td>\n",
              "      <td>779.0</td>\n",
              "      <td>2.0</td>\n",
              "      <td>0.0</td>\n",
              "      <td>5.0</td>\n",
              "      <td>2.0</td>\n",
              "      <td>0.0</td>\n",
              "      <td>0.0</td>\n",
              "      <td>0.0</td>\n",
              "      <td>133.0</td>\n",
              "      <td>...</td>\n",
              "      <td>68.0</td>\n",
              "      <td>198.0</td>\n",
              "      <td>5.0</td>\n",
              "      <td>1.0</td>\n",
              "      <td>141.0</td>\n",
              "      <td>135.0</td>\n",
              "      <td>138.0</td>\n",
              "      <td>13.0</td>\n",
              "      <td>0.0</td>\n",
              "      <td>1.0</td>\n",
              "    </tr>\n",
              "    <tr>\n",
              "      <th>3</th>\n",
              "      <td>411.0</td>\n",
              "      <td>1192.0</td>\n",
              "      <td>2.0</td>\n",
              "      <td>0.0</td>\n",
              "      <td>6.0</td>\n",
              "      <td>2.0</td>\n",
              "      <td>0.0</td>\n",
              "      <td>0.0</td>\n",
              "      <td>0.0</td>\n",
              "      <td>134.0</td>\n",
              "      <td>...</td>\n",
              "      <td>53.0</td>\n",
              "      <td>170.0</td>\n",
              "      <td>11.0</td>\n",
              "      <td>0.0</td>\n",
              "      <td>137.0</td>\n",
              "      <td>134.0</td>\n",
              "      <td>137.0</td>\n",
              "      <td>13.0</td>\n",
              "      <td>1.0</td>\n",
              "      <td>1.0</td>\n",
              "    </tr>\n",
              "    <tr>\n",
              "      <th>4</th>\n",
              "      <td>533.0</td>\n",
              "      <td>1147.0</td>\n",
              "      <td>4.0</td>\n",
              "      <td>0.0</td>\n",
              "      <td>5.0</td>\n",
              "      <td>0.0</td>\n",
              "      <td>0.0</td>\n",
              "      <td>0.0</td>\n",
              "      <td>0.0</td>\n",
              "      <td>132.0</td>\n",
              "      <td>...</td>\n",
              "      <td>53.0</td>\n",
              "      <td>170.0</td>\n",
              "      <td>9.0</td>\n",
              "      <td>0.0</td>\n",
              "      <td>137.0</td>\n",
              "      <td>136.0</td>\n",
              "      <td>138.0</td>\n",
              "      <td>11.0</td>\n",
              "      <td>1.0</td>\n",
              "      <td>1.0</td>\n",
              "    </tr>\n",
              "    <tr>\n",
              "      <th>...</th>\n",
              "      <td>...</td>\n",
              "      <td>...</td>\n",
              "      <td>...</td>\n",
              "      <td>...</td>\n",
              "      <td>...</td>\n",
              "      <td>...</td>\n",
              "      <td>...</td>\n",
              "      <td>...</td>\n",
              "      <td>...</td>\n",
              "      <td>...</td>\n",
              "      <td>...</td>\n",
              "      <td>...</td>\n",
              "      <td>...</td>\n",
              "      <td>...</td>\n",
              "      <td>...</td>\n",
              "      <td>...</td>\n",
              "      <td>...</td>\n",
              "      <td>...</td>\n",
              "      <td>...</td>\n",
              "      <td>...</td>\n",
              "      <td>...</td>\n",
              "    </tr>\n",
              "    <tr>\n",
              "      <th>2121</th>\n",
              "      <td>2059.0</td>\n",
              "      <td>2867.0</td>\n",
              "      <td>0.0</td>\n",
              "      <td>0.0</td>\n",
              "      <td>6.0</td>\n",
              "      <td>0.0</td>\n",
              "      <td>0.0</td>\n",
              "      <td>0.0</td>\n",
              "      <td>0.0</td>\n",
              "      <td>140.0</td>\n",
              "      <td>...</td>\n",
              "      <td>137.0</td>\n",
              "      <td>177.0</td>\n",
              "      <td>4.0</td>\n",
              "      <td>0.0</td>\n",
              "      <td>153.0</td>\n",
              "      <td>150.0</td>\n",
              "      <td>152.0</td>\n",
              "      <td>2.0</td>\n",
              "      <td>0.0</td>\n",
              "      <td>2.0</td>\n",
              "    </tr>\n",
              "    <tr>\n",
              "      <th>2122</th>\n",
              "      <td>1576.0</td>\n",
              "      <td>2867.0</td>\n",
              "      <td>1.0</td>\n",
              "      <td>0.0</td>\n",
              "      <td>9.0</td>\n",
              "      <td>0.0</td>\n",
              "      <td>0.0</td>\n",
              "      <td>0.0</td>\n",
              "      <td>0.0</td>\n",
              "      <td>140.0</td>\n",
              "      <td>...</td>\n",
              "      <td>103.0</td>\n",
              "      <td>169.0</td>\n",
              "      <td>6.0</td>\n",
              "      <td>0.0</td>\n",
              "      <td>152.0</td>\n",
              "      <td>148.0</td>\n",
              "      <td>151.0</td>\n",
              "      <td>3.0</td>\n",
              "      <td>1.0</td>\n",
              "      <td>2.0</td>\n",
              "    </tr>\n",
              "    <tr>\n",
              "      <th>2123</th>\n",
              "      <td>1576.0</td>\n",
              "      <td>2596.0</td>\n",
              "      <td>1.0</td>\n",
              "      <td>0.0</td>\n",
              "      <td>7.0</td>\n",
              "      <td>0.0</td>\n",
              "      <td>0.0</td>\n",
              "      <td>0.0</td>\n",
              "      <td>0.0</td>\n",
              "      <td>140.0</td>\n",
              "      <td>...</td>\n",
              "      <td>103.0</td>\n",
              "      <td>170.0</td>\n",
              "      <td>5.0</td>\n",
              "      <td>0.0</td>\n",
              "      <td>153.0</td>\n",
              "      <td>148.0</td>\n",
              "      <td>152.0</td>\n",
              "      <td>4.0</td>\n",
              "      <td>1.0</td>\n",
              "      <td>2.0</td>\n",
              "    </tr>\n",
              "    <tr>\n",
              "      <th>2124</th>\n",
              "      <td>1576.0</td>\n",
              "      <td>3049.0</td>\n",
              "      <td>1.0</td>\n",
              "      <td>0.0</td>\n",
              "      <td>9.0</td>\n",
              "      <td>0.0</td>\n",
              "      <td>0.0</td>\n",
              "      <td>0.0</td>\n",
              "      <td>0.0</td>\n",
              "      <td>140.0</td>\n",
              "      <td>...</td>\n",
              "      <td>103.0</td>\n",
              "      <td>169.0</td>\n",
              "      <td>6.0</td>\n",
              "      <td>0.0</td>\n",
              "      <td>152.0</td>\n",
              "      <td>147.0</td>\n",
              "      <td>151.0</td>\n",
              "      <td>4.0</td>\n",
              "      <td>1.0</td>\n",
              "      <td>2.0</td>\n",
              "    </tr>\n",
              "    <tr>\n",
              "      <th>2125</th>\n",
              "      <td>2796.0</td>\n",
              "      <td>3415.0</td>\n",
              "      <td>1.0</td>\n",
              "      <td>1.0</td>\n",
              "      <td>5.0</td>\n",
              "      <td>0.0</td>\n",
              "      <td>0.0</td>\n",
              "      <td>0.0</td>\n",
              "      <td>0.0</td>\n",
              "      <td>142.0</td>\n",
              "      <td>...</td>\n",
              "      <td>117.0</td>\n",
              "      <td>159.0</td>\n",
              "      <td>2.0</td>\n",
              "      <td>1.0</td>\n",
              "      <td>145.0</td>\n",
              "      <td>143.0</td>\n",
              "      <td>145.0</td>\n",
              "      <td>1.0</td>\n",
              "      <td>0.0</td>\n",
              "      <td>1.0</td>\n",
              "    </tr>\n",
              "  </tbody>\n",
              "</table>\n",
              "<p>2115 rows × 31 columns</p>\n",
              "</div>\n",
              "    <div class=\"colab-df-buttons\">\n",
              "\n",
              "  <div class=\"colab-df-container\">\n",
              "    <button class=\"colab-df-convert\" onclick=\"convertToInteractive('df-819e4331-6bf1-491b-95e9-ab0942d59976')\"\n",
              "            title=\"Convert this dataframe to an interactive table.\"\n",
              "            style=\"display:none;\">\n",
              "\n",
              "  <svg xmlns=\"http://www.w3.org/2000/svg\" height=\"24px\" viewBox=\"0 -960 960 960\">\n",
              "    <path d=\"M120-120v-720h720v720H120Zm60-500h600v-160H180v160Zm220 220h160v-160H400v160Zm0 220h160v-160H400v160ZM180-400h160v-160H180v160Zm440 0h160v-160H620v160ZM180-180h160v-160H180v160Zm440 0h160v-160H620v160Z\"/>\n",
              "  </svg>\n",
              "    </button>\n",
              "\n",
              "  <style>\n",
              "    .colab-df-container {\n",
              "      display:flex;\n",
              "      gap: 12px;\n",
              "    }\n",
              "\n",
              "    .colab-df-convert {\n",
              "      background-color: #E8F0FE;\n",
              "      border: none;\n",
              "      border-radius: 50%;\n",
              "      cursor: pointer;\n",
              "      display: none;\n",
              "      fill: #1967D2;\n",
              "      height: 32px;\n",
              "      padding: 0 0 0 0;\n",
              "      width: 32px;\n",
              "    }\n",
              "\n",
              "    .colab-df-convert:hover {\n",
              "      background-color: #E2EBFA;\n",
              "      box-shadow: 0px 1px 2px rgba(60, 64, 67, 0.3), 0px 1px 3px 1px rgba(60, 64, 67, 0.15);\n",
              "      fill: #174EA6;\n",
              "    }\n",
              "\n",
              "    .colab-df-buttons div {\n",
              "      margin-bottom: 4px;\n",
              "    }\n",
              "\n",
              "    [theme=dark] .colab-df-convert {\n",
              "      background-color: #3B4455;\n",
              "      fill: #D2E3FC;\n",
              "    }\n",
              "\n",
              "    [theme=dark] .colab-df-convert:hover {\n",
              "      background-color: #434B5C;\n",
              "      box-shadow: 0px 1px 3px 1px rgba(0, 0, 0, 0.15);\n",
              "      filter: drop-shadow(0px 1px 2px rgba(0, 0, 0, 0.3));\n",
              "      fill: #FFFFFF;\n",
              "    }\n",
              "  </style>\n",
              "\n",
              "    <script>\n",
              "      const buttonEl =\n",
              "        document.querySelector('#df-819e4331-6bf1-491b-95e9-ab0942d59976 button.colab-df-convert');\n",
              "      buttonEl.style.display =\n",
              "        google.colab.kernel.accessAllowed ? 'block' : 'none';\n",
              "\n",
              "      async function convertToInteractive(key) {\n",
              "        const element = document.querySelector('#df-819e4331-6bf1-491b-95e9-ab0942d59976');\n",
              "        const dataTable =\n",
              "          await google.colab.kernel.invokeFunction('convertToInteractive',\n",
              "                                                    [key], {});\n",
              "        if (!dataTable) return;\n",
              "\n",
              "        const docLinkHtml = 'Like what you see? Visit the ' +\n",
              "          '<a target=\"_blank\" href=https://colab.research.google.com/notebooks/data_table.ipynb>data table notebook</a>'\n",
              "          + ' to learn more about interactive tables.';\n",
              "        element.innerHTML = '';\n",
              "        dataTable['output_type'] = 'display_data';\n",
              "        await google.colab.output.renderOutput(dataTable, element);\n",
              "        const docLink = document.createElement('div');\n",
              "        docLink.innerHTML = docLinkHtml;\n",
              "        element.appendChild(docLink);\n",
              "      }\n",
              "    </script>\n",
              "  </div>\n",
              "\n",
              "\n",
              "    <div id=\"df-53fa2b25-9eff-4486-8c03-5002f885acc2\">\n",
              "      <button class=\"colab-df-quickchart\" onclick=\"quickchart('df-53fa2b25-9eff-4486-8c03-5002f885acc2')\"\n",
              "                title=\"Suggest charts\"\n",
              "                style=\"display:none;\">\n",
              "\n",
              "<svg xmlns=\"http://www.w3.org/2000/svg\" height=\"24px\"viewBox=\"0 0 24 24\"\n",
              "     width=\"24px\">\n",
              "    <g>\n",
              "        <path d=\"M19 3H5c-1.1 0-2 .9-2 2v14c0 1.1.9 2 2 2h14c1.1 0 2-.9 2-2V5c0-1.1-.9-2-2-2zM9 17H7v-7h2v7zm4 0h-2V7h2v10zm4 0h-2v-4h2v4z\"/>\n",
              "    </g>\n",
              "</svg>\n",
              "      </button>\n",
              "\n",
              "<style>\n",
              "  .colab-df-quickchart {\n",
              "      --bg-color: #E8F0FE;\n",
              "      --fill-color: #1967D2;\n",
              "      --hover-bg-color: #E2EBFA;\n",
              "      --hover-fill-color: #174EA6;\n",
              "      --disabled-fill-color: #AAA;\n",
              "      --disabled-bg-color: #DDD;\n",
              "  }\n",
              "\n",
              "  [theme=dark] .colab-df-quickchart {\n",
              "      --bg-color: #3B4455;\n",
              "      --fill-color: #D2E3FC;\n",
              "      --hover-bg-color: #434B5C;\n",
              "      --hover-fill-color: #FFFFFF;\n",
              "      --disabled-bg-color: #3B4455;\n",
              "      --disabled-fill-color: #666;\n",
              "  }\n",
              "\n",
              "  .colab-df-quickchart {\n",
              "    background-color: var(--bg-color);\n",
              "    border: none;\n",
              "    border-radius: 50%;\n",
              "    cursor: pointer;\n",
              "    display: none;\n",
              "    fill: var(--fill-color);\n",
              "    height: 32px;\n",
              "    padding: 0;\n",
              "    width: 32px;\n",
              "  }\n",
              "\n",
              "  .colab-df-quickchart:hover {\n",
              "    background-color: var(--hover-bg-color);\n",
              "    box-shadow: 0 1px 2px rgba(60, 64, 67, 0.3), 0 1px 3px 1px rgba(60, 64, 67, 0.15);\n",
              "    fill: var(--button-hover-fill-color);\n",
              "  }\n",
              "\n",
              "  .colab-df-quickchart-complete:disabled,\n",
              "  .colab-df-quickchart-complete:disabled:hover {\n",
              "    background-color: var(--disabled-bg-color);\n",
              "    fill: var(--disabled-fill-color);\n",
              "    box-shadow: none;\n",
              "  }\n",
              "\n",
              "  .colab-df-spinner {\n",
              "    border: 2px solid var(--fill-color);\n",
              "    border-color: transparent;\n",
              "    border-bottom-color: var(--fill-color);\n",
              "    animation:\n",
              "      spin 1s steps(1) infinite;\n",
              "  }\n",
              "\n",
              "  @keyframes spin {\n",
              "    0% {\n",
              "      border-color: transparent;\n",
              "      border-bottom-color: var(--fill-color);\n",
              "      border-left-color: var(--fill-color);\n",
              "    }\n",
              "    20% {\n",
              "      border-color: transparent;\n",
              "      border-left-color: var(--fill-color);\n",
              "      border-top-color: var(--fill-color);\n",
              "    }\n",
              "    30% {\n",
              "      border-color: transparent;\n",
              "      border-left-color: var(--fill-color);\n",
              "      border-top-color: var(--fill-color);\n",
              "      border-right-color: var(--fill-color);\n",
              "    }\n",
              "    40% {\n",
              "      border-color: transparent;\n",
              "      border-right-color: var(--fill-color);\n",
              "      border-top-color: var(--fill-color);\n",
              "    }\n",
              "    60% {\n",
              "      border-color: transparent;\n",
              "      border-right-color: var(--fill-color);\n",
              "    }\n",
              "    80% {\n",
              "      border-color: transparent;\n",
              "      border-right-color: var(--fill-color);\n",
              "      border-bottom-color: var(--fill-color);\n",
              "    }\n",
              "    90% {\n",
              "      border-color: transparent;\n",
              "      border-bottom-color: var(--fill-color);\n",
              "    }\n",
              "  }\n",
              "</style>\n",
              "\n",
              "      <script>\n",
              "        async function quickchart(key) {\n",
              "          const quickchartButtonEl =\n",
              "            document.querySelector('#' + key + ' button');\n",
              "          quickchartButtonEl.disabled = true;  // To prevent multiple clicks.\n",
              "          quickchartButtonEl.classList.add('colab-df-spinner');\n",
              "          try {\n",
              "            const charts = await google.colab.kernel.invokeFunction(\n",
              "                'suggestCharts', [key], {});\n",
              "          } catch (error) {\n",
              "            console.error('Error during call to suggestCharts:', error);\n",
              "          }\n",
              "          quickchartButtonEl.classList.remove('colab-df-spinner');\n",
              "          quickchartButtonEl.classList.add('colab-df-quickchart-complete');\n",
              "        }\n",
              "        (() => {\n",
              "          let quickchartButtonEl =\n",
              "            document.querySelector('#df-53fa2b25-9eff-4486-8c03-5002f885acc2 button');\n",
              "          quickchartButtonEl.style.display =\n",
              "            google.colab.kernel.accessAllowed ? 'block' : 'none';\n",
              "        })();\n",
              "      </script>\n",
              "    </div>\n",
              "\n",
              "  <div id=\"id_b82d1b8d-3c99-4781-948e-13ee1cfc8f8d\">\n",
              "    <style>\n",
              "      .colab-df-generate {\n",
              "        background-color: #E8F0FE;\n",
              "        border: none;\n",
              "        border-radius: 50%;\n",
              "        cursor: pointer;\n",
              "        display: none;\n",
              "        fill: #1967D2;\n",
              "        height: 32px;\n",
              "        padding: 0 0 0 0;\n",
              "        width: 32px;\n",
              "      }\n",
              "\n",
              "      .colab-df-generate:hover {\n",
              "        background-color: #E2EBFA;\n",
              "        box-shadow: 0px 1px 2px rgba(60, 64, 67, 0.3), 0px 1px 3px 1px rgba(60, 64, 67, 0.15);\n",
              "        fill: #174EA6;\n",
              "      }\n",
              "\n",
              "      [theme=dark] .colab-df-generate {\n",
              "        background-color: #3B4455;\n",
              "        fill: #D2E3FC;\n",
              "      }\n",
              "\n",
              "      [theme=dark] .colab-df-generate:hover {\n",
              "        background-color: #434B5C;\n",
              "        box-shadow: 0px 1px 3px 1px rgba(0, 0, 0, 0.15);\n",
              "        filter: drop-shadow(0px 1px 2px rgba(0, 0, 0, 0.3));\n",
              "        fill: #FFFFFF;\n",
              "      }\n",
              "    </style>\n",
              "    <button class=\"colab-df-generate\" onclick=\"generateWithVariable('df')\"\n",
              "            title=\"Generate code using this dataframe.\"\n",
              "            style=\"display:none;\">\n",
              "\n",
              "  <svg xmlns=\"http://www.w3.org/2000/svg\" height=\"24px\"viewBox=\"0 0 24 24\"\n",
              "       width=\"24px\">\n",
              "    <path d=\"M7,19H8.4L18.45,9,17,7.55,7,17.6ZM5,21V16.75L18.45,3.32a2,2,0,0,1,2.83,0l1.4,1.43a1.91,1.91,0,0,1,.58,1.4,1.91,1.91,0,0,1-.58,1.4L9.25,21ZM18.45,9,17,7.55Zm-12,3A5.31,5.31,0,0,0,4.9,8.1,5.31,5.31,0,0,0,1,6.5,5.31,5.31,0,0,0,4.9,4.9,5.31,5.31,0,0,0,6.5,1,5.31,5.31,0,0,0,8.1,4.9,5.31,5.31,0,0,0,12,6.5,5.46,5.46,0,0,0,6.5,12Z\"/>\n",
              "  </svg>\n",
              "    </button>\n",
              "    <script>\n",
              "      (() => {\n",
              "      const buttonEl =\n",
              "        document.querySelector('#id_b82d1b8d-3c99-4781-948e-13ee1cfc8f8d button.colab-df-generate');\n",
              "      buttonEl.style.display =\n",
              "        google.colab.kernel.accessAllowed ? 'block' : 'none';\n",
              "\n",
              "      buttonEl.onclick = () => {\n",
              "        google.colab.notebook.generateWithVariable('df');\n",
              "      }\n",
              "      })();\n",
              "    </script>\n",
              "  </div>\n",
              "\n",
              "    </div>\n",
              "  </div>\n"
            ],
            "application/vnd.google.colaboratory.intrinsic+json": {
              "type": "dataframe",
              "variable_name": "df"
            }
          },
          "metadata": {},
          "execution_count": 160
        }
      ]
    },
    {
      "cell_type": "markdown",
      "source": [
        "**Downloading cleaned data file as excel**"
      ],
      "metadata": {
        "id": "I9_1z1Hv0Vvt"
      }
    },
    {
      "cell_type": "code",
      "source": [
        "\n",
        "df.to_excel(\"cleaned_data.xlsx\", index=False)\n"
      ],
      "metadata": {
        "id": "IGV4dz0X0Vet"
      },
      "execution_count": 162,
      "outputs": []
    },
    {
      "cell_type": "code",
      "source": [
        "print(len(df[df['NSP']== 1]))\n",
        "print(len(df[df['NSP']== 2]))\n",
        "print(len(df[df['NSP']== 3]))"
      ],
      "metadata": {
        "id": "a1booWIFe-36"
      },
      "execution_count": null,
      "outputs": []
    },
    {
      "cell_type": "code",
      "source": [
        "chart_label = ['b', 'e', 'AC', 'FM', 'UC', 'DL', 'DS', 'DP', 'DR', 'LB', 'UC.1', 'AC.1', 'FM.1', 'DL.1', 'DS.1', 'DP.1', 'ASTV','MSTV', 'ALTV', 'MLTV', 'Width', 'Min', 'Max', 'Nmax', 'Nzeros', 'Mode', 'Mean', 'Median', 'Variance', 'Tendency', 'NSP']\n",
        "for chart_n in range(30):\n",
        "  chart_nsp1 = df[df['NSP'] == 1][chart_label[chart_n]]\n",
        "  chart_nsp2 = df[df['NSP'] == 2][chart_label[chart_n]]\n",
        "  chart_nsp3 = df[df['NSP'] == 3][chart_label[chart_n]]\n",
        "  # Plot histograms\n",
        "  plt.hist(chart_nsp1, bins=40, alpha=0.6, label='NSP = 1', color='blue')\n",
        "  plt.hist(chart_nsp2, bins=40, alpha=0.7, label='NSP = 2', color='purple')\n",
        "  plt.hist(chart_nsp3, bins=40, alpha=0.5, label='NSP = 3', color='red')\n",
        "\n",
        "  plt.title(chart_label[chart_n] + ' Distribution: NSP 1 vs NSP 2 vs NSP 3')\n",
        "  plt.xlabel(chart_label[chart_n] + ' Value')\n",
        "  plt.ylabel('Frequency')\n",
        "  plt.legend()\n",
        "  plt.show()"
      ],
      "metadata": {
        "id": "N9UGZt97iqQT"
      },
      "execution_count": null,
      "outputs": []
    },
    {
      "cell_type": "code",
      "source": [
        "chart_label = ['b', 'e', 'AC', 'FM', 'UC', 'DL', 'DS', 'DP', 'DR', 'LB', 'UC.1', 'AC.1', 'FM.1', 'DL.1', 'DS.1', 'DP.1', 'ASTV','MSTV', 'ALTV', 'MLTV', 'Width', 'Min', 'Max', 'Nmax', 'Nzeros', 'Mode', 'Mean', 'Median', 'Variance', 'Tendency', 'NSP']\n",
        "for n in range(30):\n",
        "  lb_bins = pd.cut(df[chart_label[n]], bins=15)\n",
        "  heatmap_data = df.groupby([lb_bins, \"NSP\"]).size().unstack(fill_value=0)\n",
        "  plt.figure(figsize=(10, 6))\n",
        "  sns.heatmap(heatmap_data, annot=True, fmt=\"d\", cmap=\"YlOrRd\")\n",
        "  plt.title(chart_label[n] +\" distribution across NSP levels\")\n",
        "  plt.xlabel(\"NSP\")\n",
        "  plt.ylabel(chart_label[n] +\"bins\")\n",
        "  plt.tight_layout()\n",
        "  plt.show()\n"
      ],
      "metadata": {
        "id": "c_8K6lKDAkve"
      },
      "execution_count": null,
      "outputs": []
    },
    {
      "cell_type": "markdown",
      "source": [
        "# **Chart after balanced on nsp 1 2 3**"
      ],
      "metadata": {
        "id": "2zf7vw-VZUL9"
      }
    },
    {
      "cell_type": "code",
      "source": [
        "from sklearn.utils import resample\n",
        "print(df['NSP'].value_counts())"
      ],
      "metadata": {
        "id": "Xkr4EFuDZrfB"
      },
      "execution_count": null,
      "outputs": []
    },
    {
      "cell_type": "code",
      "source": [
        "df_nsp1 = df[df['NSP'] == 1]\n",
        "df_nsp2 = df[df['NSP'] == 2]\n",
        "df_nsp3 = df[df['NSP'] == 3]\n",
        "\n",
        "df_nsp2_upsampled = resample(df_nsp2, replace=True, n_samples=len(df_nsp1), random_state=42)\n",
        "df_nsp3_upsampled = resample(df_nsp3, replace=True, n_samples=len(df_nsp1), random_state=42)\n",
        "\n",
        "df_balanced = pd.concat([df_nsp1, df_nsp2_upsampled, df_nsp3_upsampled])\n"
      ],
      "metadata": {
        "id": "D6UGIFCKaL4I"
      },
      "execution_count": null,
      "outputs": []
    },
    {
      "cell_type": "code",
      "source": [
        "df_balanced"
      ],
      "metadata": {
        "id": "sAkhPz8JbLv3"
      },
      "execution_count": null,
      "outputs": []
    },
    {
      "cell_type": "markdown",
      "source": [
        "**Histogram**"
      ],
      "metadata": {
        "id": "9W3OQRHdncw5"
      }
    },
    {
      "cell_type": "code",
      "source": [
        "chart_label = ['b', 'e', 'AC', 'FM', 'UC', 'DL', 'DS', 'DP', 'DR', 'LB', 'UC.1', 'AC.1', 'FM.1', 'DL.1', 'DS.1', 'DP.1', 'ASTV','MSTV', 'ALTV', 'MLTV', 'Width', 'Min', 'Max', 'Nmax', 'Nzeros', 'Mode', 'Mean', 'Median', 'Variance', 'Tendency', 'NSP']\n",
        "for chart_n in range(30):\n",
        "  chart_nsp1 = df_balanced[df_balanced['NSP'] == 1][chart_label[chart_n]]\n",
        "  chart_nsp2 = df_balanced[df_balanced['NSP'] == 2][chart_label[chart_n]]\n",
        "  chart_nsp3 = df_balanced[df_balanced['NSP'] == 3][chart_label[chart_n]]\n",
        "  # Plot histograms\n",
        "  plt.hist(chart_nsp1, bins=40, alpha=0.6, label='NSP = 1', color='blue')\n",
        "  plt.hist(chart_nsp2, bins=40, alpha=0.7, label='NSP = 2', color='purple')\n",
        "  plt.hist(chart_nsp3, bins=40, alpha=0.5, label='NSP = 3', color='red')\n",
        "\n",
        "  plt.title(chart_label[chart_n] + ' Distribution: NSP 1 vs NSP 2 vs NSP 3')\n",
        "  plt.xlabel(chart_label[chart_n] + ' Value')\n",
        "  plt.ylabel('Frequency')\n",
        "  plt.legend()\n",
        "  plt.show()"
      ],
      "metadata": {
        "id": "5hdaUMmObSJv"
      },
      "execution_count": null,
      "outputs": []
    },
    {
      "cell_type": "markdown",
      "source": [
        "**Heat Map**"
      ],
      "metadata": {
        "id": "-S4e-ZT2ngnn"
      }
    },
    {
      "cell_type": "code",
      "source": [
        "chart_label = ['b', 'e', 'AC', 'FM', 'UC', 'DL', 'DS', 'DP', 'DR', 'LB', 'UC.1', 'AC.1', 'FM.1', 'DL.1', 'DS.1', 'DP.1', 'ASTV','MSTV', 'ALTV', 'MLTV', 'Width', 'Min', 'Max', 'Nmax', 'Nzeros', 'Mode', 'Mean', 'Median', 'Variance', 'Tendency', 'NSP']\n",
        "for n in range(30):\n",
        "  lb_bins = pd.cut(df_balanced[chart_label[n]], bins=15)\n",
        "  heatmap_data = df_balanced.groupby([lb_bins, \"NSP\"]).size().unstack(fill_value=0)\n",
        "  plt.figure(figsize=(10, 6))\n",
        "  sns.heatmap(heatmap_data, annot=True, fmt=\"d\", cmap=\"YlOrRd\")\n",
        "  plt.title(chart_label[n] +\"distribution across NSP levels\")\n",
        "  plt.xlabel(\"NSP\")\n",
        "  plt.ylabel(chart_label[n] +\"bins\")\n",
        "  plt.tight_layout()\n",
        "  plt.show()"
      ],
      "metadata": {
        "id": "k1rn1dDyb43H"
      },
      "execution_count": null,
      "outputs": []
    },
    {
      "cell_type": "markdown",
      "source": [
        "\n",
        "\n",
        "#**Splitting, Scaling, & normalizing**\n",
        "\n",
        "\n",
        "\n"
      ],
      "metadata": {
        "id": "IoiORaoj1ZJx"
      }
    },
    {
      "cell_type": "code",
      "source": [
        "#splitting the data into train and test\n",
        "train, test = np.split(df.sample(frac = 1), [int(0.7 * len(df))])\n",
        "\n",
        "print(len(train[train['NSP']== 1]))\n",
        "print(len(train[train['NSP']== 2]))\n",
        "print(len(train[train['NSP']== 3]))"
      ],
      "metadata": {
        "id": "zBuTQ2Ed1o4M"
      },
      "execution_count": null,
      "outputs": []
    },
    {
      "cell_type": "code",
      "source": [
        "def scale_dataset(dataframe, oversample = False):\n",
        "  X = dataframe[dataframe.columns[:-1]].values\n",
        "  y = dataframe[dataframe.columns[-1]].values\n",
        "\n",
        "  # Convert y to numeric, coercing errors to NaN\n",
        "  y = pd.to_numeric(y, errors='coerce')\n",
        "\n",
        "  # Drop rows where y is NaN\n",
        "  nan_mask = np.isnan(y)\n",
        "  X = X[~nan_mask]\n",
        "  y = y[~nan_mask]\n",
        "\n",
        "  scaler = StandardScaler()\n",
        "  X = scaler.fit_transform(X)\n",
        "\n",
        "  data = np.hstack((X, np.reshape(y, (-1,1))))\n",
        "\n",
        "  if oversample:\n",
        "    ros = RandomOverSampler()\n",
        "    X, y = ros.fit_resample(X, y)\n",
        "    data = np.hstack((X, np.reshape(y, (-1,1)))) # Recreate data with oversampled data\n",
        "\n",
        "\n",
        "  return data, X, y"
      ],
      "metadata": {
        "id": "V6sdSd4q-AkU"
      },
      "execution_count": null,
      "outputs": []
    },
    {
      "cell_type": "code",
      "source": [
        "train, X_train, y_train = scale_dataset(train, oversample = True)\n",
        "# valid, X_valid, y_valid = scale_dataset(valid, oversample = False)\n",
        "test, X_test, y_test = scale_dataset(test, oversample = False)\n"
      ],
      "metadata": {
        "id": "Ur1BeXF5RdIR"
      },
      "execution_count": null,
      "outputs": []
    },
    {
      "cell_type": "markdown",
      "source": [
        "# **Analysing based on certain feature**"
      ],
      "metadata": {
        "id": "ntES2Yu1y6nd"
      }
    },
    {
      "cell_type": "code",
      "source": [
        "df"
      ],
      "metadata": {
        "id": "_YMFyfCk5izU"
      },
      "execution_count": null,
      "outputs": []
    },
    {
      "cell_type": "code",
      "source": [
        "df_stats = df.describe().T\n",
        "df_stats"
      ],
      "metadata": {
        "id": "qNGrmReF5j4l"
      },
      "execution_count": null,
      "outputs": []
    },
    {
      "cell_type": "code",
      "source": [
        "#distribution of the NSP\n",
        "\n",
        "print(len(df[df['NSP']== 1]))\n",
        "print(len(df[df['NSP']== 2]))\n",
        "print(len(df[df['NSP']== 3]))"
      ],
      "metadata": {
        "id": "bKfwrCiC6aNu"
      },
      "execution_count": null,
      "outputs": []
    },
    {
      "cell_type": "markdown",
      "source": [],
      "metadata": {
        "id": "PTKSQ9jX7CY4"
      }
    },
    {
      "cell_type": "code",
      "source": [
        "comparison_table = df.groupby('NSP')[['AC', 'DS']].agg(['mean', 'median'])\n",
        "comparison_table.columns = ['.'.join(col) for col in comparison_table.columns]\n",
        "comparison_table\n",
        "\n"
      ],
      "metadata": {
        "id": "MGYhgnWk76E_"
      },
      "execution_count": null,
      "outputs": []
    },
    {
      "cell_type": "markdown",
      "source": [
        "LB\n"
      ],
      "metadata": {
        "id": "h_zH83r4Wnd4"
      }
    },
    {
      "cell_type": "code",
      "source": [
        "def categorize_lb(lb):\n",
        "    if lb < 110:\n",
        "        return 'Low'\n",
        "    elif lb >= 110 and lb < 160:\n",
        "        return 'Normal'\n",
        "    else:\n",
        "        return 'High'\n",
        "\n",
        "df['LB_category'] = df['LB'].apply(categorize_lb)\n",
        "\n",
        "comparison_table = df.groupby(['LB_category', 'NSP']).size().unstack(fill_value=0)\n",
        "comparison_table"
      ],
      "metadata": {
        "id": "XVOPwcP2W7r2"
      },
      "execution_count": null,
      "outputs": []
    },
    {
      "cell_type": "code",
      "source": [
        "fig, axes = plt.subplots(1, 2, figsize=(14, 6), sharey=True)\n",
        "\n",
        "# Plot mSTV histogram + KDE\n",
        "sns.histplot(data=df, x='MSTV', hue='NSP', multiple='stack', bins=30, ax=axes[0], kde=True)\n",
        "axes[0].set_title('Distribution of mSTV by NSP')\n",
        "axes[0].set_xlabel('mSTV')\n",
        "axes[0].set_ylabel('Frequency')\n",
        "\n",
        "# Plot mLTV histogram + KDE\n",
        "sns.histplot(data=df, x='MLTV', hue='NSP', multiple='stack', bins=30, ax=axes[1], kde=True)\n",
        "axes[1].set_title('Distribution of mLTV by NSP')\n",
        "axes[1].set_xlabel('mLTV')\n",
        "\n",
        "plt.tight_layout()\n",
        "plt.show()\n",
        "\n"
      ],
      "metadata": {
        "id": "whfh_iQdXuhK"
      },
      "execution_count": null,
      "outputs": []
    },
    {
      "cell_type": "code",
      "source": [
        "fig, axes = plt.subplots(1, 2, figsize=(14, 6), sharey=True)\n",
        "\n",
        "# Plot mSTV histogram + KDE\n",
        "sns.histplot(data=df, x='ASTV', hue='NSP', multiple='stack', bins=30, ax=axes[0], kde=True)\n",
        "axes[0].set_title('Distribution of aSTV by NSP')\n",
        "axes[0].set_xlabel('aSTV')\n",
        "axes[0].set_ylabel('Frequency')\n",
        "\n",
        "# Plot mLTV histogram + KDE\n",
        "sns.histplot(data=df, x='ALTV', hue='NSP', multiple='stack', bins=30, ax=axes[1], kde=True)\n",
        "axes[1].set_title('Distribution of aLTV by NSP')\n",
        "axes[1].set_xlabel('aLTV')\n",
        "\n",
        "plt.tight_layout()\n",
        "plt.show()"
      ],
      "metadata": {
        "id": "NA_LX0rLZ7Hn"
      },
      "execution_count": null,
      "outputs": []
    },
    {
      "cell_type": "markdown",
      "source": [
        "Finding whether each feature has some significant impact on showing nsp level"
      ],
      "metadata": {
        "id": "vFDKyzweashD"
      }
    },
    {
      "cell_type": "code",
      "source": [
        "from scipy.stats import chi2_contingency\n"
      ],
      "metadata": {
        "id": "skK2GMDNa1Je"
      },
      "execution_count": null,
      "outputs": []
    },
    {
      "cell_type": "code",
      "source": [
        "df_binned = df.copy()\n",
        "for col in df.columns:\n",
        "    if pd.api.types.is_numeric_dtype(df[col]) and col != 'NSP':\n",
        "        df_binned[col] = pd.cut(df[col], bins=3, labels=['Low', 'Medium', 'High'])\n",
        "\n",
        "results = []\n",
        "\n",
        "for col in df_binned.columns:\n",
        "    if col != 'NSP':\n",
        "        contingency = pd.crosstab(df_binned[col], df_binned['NSP'])\n",
        "        chi2, p, dof, expected = chi2_contingency(contingency)\n",
        "        results.append({\n",
        "            'Feature': col,\n",
        "            'Chi2': round(chi2, 3),\n",
        "            'p-value': round(p, 4),\n",
        "            'Significant': p < 0.1\n",
        "        })\n",
        "\n",
        "# Convert to DataFrame for display\n",
        "chi_square_results = pd.DataFrame(results)\n",
        "print(chi_square_results.sort_values('p-value'))"
      ],
      "metadata": {
        "id": "xC43yu_ca_zd"
      },
      "execution_count": null,
      "outputs": []
    },
    {
      "cell_type": "code",
      "source": [
        "corr_matrix = df.corr(numeric_only=True)\n",
        "plt.figure(figsize=(12, 10))\n",
        "sns.heatmap(corr_matrix, annot=True, fmt=\".2f\", cmap='coolwarm', square=True, linewidths=0.5)\n",
        "\n",
        "plt.title('Feature Correlation Heatmap')\n",
        "plt.tight_layout()\n",
        "plt.show()\n"
      ],
      "metadata": {
        "id": "TWvpsSaab86-"
      },
      "execution_count": null,
      "outputs": []
    },
    {
      "cell_type": "code",
      "source": [
        "from sklearn.feature_selection import SelectKBest, chi2\n",
        "from sklearn.preprocessing import MinMaxScaler\n",
        "\n",
        "feature_names = df.columns[:-2]\n",
        "X = df[feature_names].values\n",
        "\n",
        "X_scaled = MinMaxScaler().fit_transform(X)\n",
        "y = df['NSP']\n",
        "\n",
        "\n",
        "selector = SelectKBest(score_func=chi2, k=10)\n",
        "X_selected = selector.fit_transform(X_scaled, y)\n",
        "\n",
        "selected_features = feature_names[selector.get_support()]\n",
        "print(\"Selected features:\", selected_features.tolist())"
      ],
      "metadata": {
        "id": "_z-U-DcPd0tO"
      },
      "execution_count": null,
      "outputs": []
    },
    {
      "cell_type": "code",
      "source": [
        "scores = selector.scores_\n",
        "chi2_df = pd.DataFrame({'Feature': feature_names, 'Chi2 Score': scores})\n",
        "chi2_df = chi2_df.sort_values(by='Chi2 Score', ascending=False)\n",
        "print(chi2_df)"
      ],
      "metadata": {
        "id": "ZodZc5YpfFU5"
      },
      "execution_count": null,
      "outputs": []
    },
    {
      "cell_type": "markdown",
      "source": [
        "# **Modeling prediction**\n",
        "**(With and without feature selection)**"
      ],
      "metadata": {
        "id": "Xf-AmAYnwlIk"
      }
    },
    {
      "cell_type": "code",
      "source": [
        "selected_features = ['b', 'e', 'AC', 'FM', 'UC', 'DL', 'DP', 'LB', 'UC.1', 'AC.1', 'FM.1', 'DL.1', 'DS.1', 'DP.1', 'ASTV','MSTV', 'ALTV', 'MLTV', 'Width', 'Min', 'Max', 'Nmax', 'Nzeros', 'Mode', 'Mean', 'Median', 'Variance', 'Tendency']\n",
        "\n",
        "df_feature = df[selected_features].copy()\n",
        "df_feature = df[selected_features + ['NSP']].copy()\n",
        "df_feature"
      ],
      "metadata": {
        "id": "d88u9qn0y60C"
      },
      "execution_count": null,
      "outputs": []
    },
    {
      "cell_type": "markdown",
      "source": [
        "**Splitting the selected features**"
      ],
      "metadata": {
        "id": "6uXakwJKR3R9"
      }
    },
    {
      "cell_type": "code",
      "source": [
        "ftrain, ftest = train_test_split(df_feature, test_size=0.3, stratify=df['NSP'], random_state=42)\n",
        "ftrain, Xf_train, yf_train = scale_dataset(ftrain, oversample = True)\n",
        "ftest, Xf_test, yf_test = scale_dataset(ftest, oversample = False)"
      ],
      "metadata": {
        "id": "VKIRSGnwR2dK"
      },
      "execution_count": null,
      "outputs": []
    },
    {
      "cell_type": "markdown",
      "source": [
        "**K NEAREST NEIGHBOURS**"
      ],
      "metadata": {
        "id": "MWGKLQM6lg5L"
      }
    },
    {
      "cell_type": "code",
      "source": [
        "from sklearn.neighbors import KNeighborsClassifier\n",
        "from sklearn.metrics import classification_report"
      ],
      "metadata": {
        "id": "8787LXXXwtt0"
      },
      "execution_count": null,
      "outputs": []
    },
    {
      "cell_type": "code",
      "source": [
        "knn_model = KNeighborsClassifier(n_neighbors=5)\n",
        "knn_model.fit(X_train, y_train)"
      ],
      "metadata": {
        "collapsed": true,
        "id": "UsVHegDUlM6k"
      },
      "execution_count": null,
      "outputs": []
    },
    {
      "cell_type": "code",
      "source": [
        "y_pred = knn_model.predict(X_test)"
      ],
      "metadata": {
        "id": "TPUcVkQ1lQhV"
      },
      "execution_count": null,
      "outputs": []
    },
    {
      "cell_type": "code",
      "source": [
        "print(classification_report(y_test, y_pred))\n",
        "\n",
        "y_true_bin = np.where(np.isin(y_test, [2,3]), 1, 0)\n",
        "y_pred_bin = np.where(np.isin(y_pred, [2,3]), 1, 0)\n",
        "tn, fp, fn, tp = confusion_matrix(y_true_bin, y_pred_bin).ravel()\n",
        "print(\"False Negatives (FN):\", fn)\n",
        "print(fn/len(y_test))"
      ],
      "metadata": {
        "id": "1DPjZeLylSje"
      },
      "execution_count": null,
      "outputs": []
    },
    {
      "cell_type": "code",
      "source": [
        "knn_model = KNeighborsClassifier(n_neighbors=5)\n",
        "knn_model.fit(Xf_train, yf_train)\n",
        "\n",
        "yf_pred = knn_model.predict(Xf_test)\n",
        "print(classification_report(yf_test, yf_pred))\n",
        "\n",
        "y_true_bin = np.where(np.isin(yf_test, [2,3]), 1, 0)\n",
        "y_pred_bin = np.where(np.isin(yf_pred, [2,3]), 1, 0)\n",
        "tn, fp, fn, tp = confusion_matrix(y_true_bin, y_pred_bin).ravel()\n",
        "print(\"False Negatives (FN):\", fn)\n",
        "print(fn/len(yf_test))"
      ],
      "metadata": {
        "id": "DJsn0fnagOr0"
      },
      "execution_count": null,
      "outputs": []
    },
    {
      "cell_type": "markdown",
      "source": [
        "**Log Regression**"
      ],
      "metadata": {
        "id": "nkIF9hd4lqVw"
      }
    },
    {
      "cell_type": "code",
      "source": [
        "from sklearn.linear_model import LogisticRegression"
      ],
      "metadata": {
        "id": "CyipDiwVlvsR"
      },
      "execution_count": null,
      "outputs": []
    },
    {
      "cell_type": "code",
      "source": [
        "lg_model = LogisticRegression()\n",
        "lg_model = lg_model.fit(X_train, y_train)"
      ],
      "metadata": {
        "id": "2ki5hs97l0e0"
      },
      "execution_count": null,
      "outputs": []
    },
    {
      "cell_type": "code",
      "source": [
        "y_pred = lg_model.predict(X_test)\n",
        "print(classification_report(y_test, y_pred))\n",
        "\n",
        "y_true_bin = np.where(np.isin(y_test, [2,3]), 1, 0)\n",
        "y_pred_bin = np.where(np.isin(y_pred, [2,3]), 1, 0)\n",
        "tn, fp, fn, tp = confusion_matrix(y_true_bin, y_pred_bin).ravel()\n",
        "print(\"False Negatives (FN):\", fn)\n",
        "print(fn/len(y_test))"
      ],
      "metadata": {
        "id": "gUfdy_gpl5j2"
      },
      "execution_count": null,
      "outputs": []
    },
    {
      "cell_type": "code",
      "source": [
        "lg_model = LogisticRegression()\n",
        "lg_model = lg_model.fit(Xf_train, yf_train)\n",
        "yf_pred = lg_model.predict(Xf_test)\n",
        "print(classification_report(yf_test, yf_pred))\n",
        "\n",
        "y_true_bin = np.where(np.isin(yf_test, [2,3]), 1, 0)\n",
        "y_pred_bin = np.where(np.isin(yf_pred, [2,3]), 1, 0)\n",
        "tn, fp, fn, tp = confusion_matrix(y_true_bin, y_pred_bin).ravel()\n",
        "print(\"False Negatives (FN):\", fn)\n",
        "print(fn/len(yf_test))\n",
        "\n"
      ],
      "metadata": {
        "id": "u4XTJTc-6QyQ"
      },
      "execution_count": null,
      "outputs": []
    },
    {
      "cell_type": "markdown",
      "source": [
        "**Support Veector Machine**"
      ],
      "metadata": {
        "id": "2Mjs_mq7mJRV"
      }
    },
    {
      "cell_type": "code",
      "source": [
        "from sklearn.svm import SVC"
      ],
      "metadata": {
        "id": "RUM7t_r-l7p5"
      },
      "execution_count": null,
      "outputs": []
    },
    {
      "cell_type": "code",
      "source": [
        "svm_model = SVC()\n",
        "svm_model = svm_model.fit(X_train, y_train)"
      ],
      "metadata": {
        "id": "iHmnXecbmPyH"
      },
      "execution_count": null,
      "outputs": []
    },
    {
      "cell_type": "code",
      "source": [
        "y_pred = svm_model.predict(X_test)\n",
        "print(classification_report(y_test, y_pred))\n",
        "\n",
        "y_true_bin = np.where(np.isin(y_test, [2,3]), 1, 0)\n",
        "y_pred_bin = np.where(np.isin(y_pred, [2,3]), 1, 0)\n",
        "tn, fp, fn, tp = confusion_matrix(y_true_bin, y_pred_bin).ravel()\n",
        "print(\"False Negatives (FN):\", fn)\n",
        "print(fn/len(y_test))"
      ],
      "metadata": {
        "id": "cpMsXC4jmSao"
      },
      "execution_count": null,
      "outputs": []
    },
    {
      "cell_type": "code",
      "source": [
        "svm_model = LogisticRegression()\n",
        "svm_model = svm_model.fit(Xf_train, yf_train)\n",
        "yf_pred = svm_model.predict(Xf_test)\n",
        "print(classification_report(yf_test, yf_pred))\n",
        "\n",
        "y_true_bin = np.where(np.isin(yf_test, [2,3]), 1, 0)\n",
        "y_pred_bin = np.where(np.isin(yf_pred, [2,3]), 1, 0)\n",
        "tn, fp, fn, tp = confusion_matrix(y_true_bin, y_pred_bin).ravel()\n",
        "print(\"False Negatives (FN):\", fn)\n",
        "print(fn/len(yf_test))"
      ],
      "metadata": {
        "id": "RikcampGSdCB"
      },
      "execution_count": null,
      "outputs": []
    },
    {
      "cell_type": "markdown",
      "source": [
        "**Random Forest**"
      ],
      "metadata": {
        "id": "a-pNNH32GcVL"
      }
    },
    {
      "cell_type": "code",
      "source": [
        "from sklearn.ensemble import RandomForestClassifier\n",
        "\n",
        "rf_model = RandomForestClassifier()\n",
        "rf_model = rf_model.fit(X_train, y_train)"
      ],
      "metadata": {
        "id": "26WnsuSSGa_3"
      },
      "execution_count": null,
      "outputs": []
    },
    {
      "cell_type": "code",
      "source": [
        "y_pred = rf_model.predict(X_test)\n",
        "print(classification_report(y_test, y_pred))\n",
        "\n",
        "y_true_bin = np.where(np.isin(y_test, [2,3]), 1, 0)\n",
        "y_pred_bin = np.where(np.isin(y_pred, [2,3]), 1, 0)\n",
        "tn, fp, fn, tp = confusion_matrix(y_true_bin, y_pred_bin).ravel()\n",
        "print(\"False Negatives (FN):\", fn)\n",
        "print(fn/len(y_test))"
      ],
      "metadata": {
        "id": "GjWLu-AeGfwt"
      },
      "execution_count": null,
      "outputs": []
    },
    {
      "cell_type": "code",
      "source": [
        "rf_model = RandomForestClassifier()\n",
        "rf_model = rf_model.fit(Xf_train, yf_train)\n",
        "yf_pred = rf_model.predict(Xf_test)\n",
        "print(classification_report(yf_test, yf_pred))\n",
        "\n",
        "y_true_bin = np.where(np.isin(yf_test, [2,3]), 1, 0)\n",
        "y_pred_bin = np.where(np.isin(yf_pred, [2,3]), 1, 0)\n",
        "tn, fp, fn, tp = confusion_matrix(y_true_bin, y_pred_bin).ravel()\n",
        "print(\"False Negatives (FN):\", fn)\n",
        "print(fn/len(yf_test))"
      ],
      "metadata": {
        "id": "uoJeE1VE3aiJ"
      },
      "execution_count": null,
      "outputs": []
    },
    {
      "cell_type": "markdown",
      "source": [
        "**Neural Nets**"
      ],
      "metadata": {
        "id": "3HzsRSbO1Bn4"
      }
    },
    {
      "cell_type": "markdown",
      "source": [],
      "metadata": {
        "id": "wtbPTBmfpQmC"
      }
    },
    {
      "cell_type": "code",
      "source": [
        "#splitting the data into 3 types for training, validation, and testing\n",
        "train, valid, test = np.split(df.sample(frac = 1), [int(0.6 * len(df)), int(0.8 * len(df))])\n",
        "\n",
        "print(len(train[train['NSP']== 1]))\n",
        "print(len(train[train['NSP']== 2]))\n",
        "print(len(train[train['NSP']== 3]))\n",
        "\n",
        "train, X_train, y_train = scale_dataset(train, oversample = True)\n",
        "valid, X_valid, y_valid = scale_dataset(valid, oversample = False)\n",
        "test, X_test, y_test = scale_dataset(test, oversample = False)"
      ],
      "metadata": {
        "id": "lwelCqZeiEnX"
      },
      "execution_count": null,
      "outputs": []
    },
    {
      "cell_type": "code",
      "source": [
        "def plot_history(history):\n",
        "  fig, (ax1, ax2) = plt.subplots(1, 2, figsize=(10, 4))\n",
        "  ax1.plot(history.history['loss'], label='loss')\n",
        "  ax1.plot(history.history['val_loss'], label='val_loss')\n",
        "  ax1.set_xlabel('Epoch')\n",
        "  ax1.set_ylabel('sparse_categorical_crossentropy')\n",
        "  ax1.grid(True)\n",
        "\n",
        "  ax2.plot(history.history['accuracy'], label='accuracy')\n",
        "  ax2.plot(history.history['val_accuracy'], label='val_accuracy')\n",
        "  ax2.set_xlabel('Epoch')\n",
        "  ax2.set_ylabel('Accuracy')\n",
        "  ax2.grid(True)\n",
        "\n",
        "  plt.show()"
      ],
      "metadata": {
        "id": "cDFZJ0pHEVK-"
      },
      "execution_count": null,
      "outputs": []
    },
    {
      "cell_type": "code",
      "source": [
        "def train_model(X_train, y_train, num_nodes, dropout_prob, lr, batch_size, epochs):\n",
        "  nn_model = tf.keras.Sequential([\n",
        "    tf.keras.layers.Dense(num_nodes, activation='relu', input_shape=(X_train.shape[1],)),\n",
        "    tf.keras.layers.Dropout(dropout_prob),\n",
        "    tf.keras.layers.Dense(num_nodes, activation='relu'),\n",
        "    tf.keras.layers.Dropout(dropout_prob),\n",
        "    tf.keras.layers.Dense(3, activation='softmax') # Changed to 3 output nodes and softmax activation\n",
        "  ])\n",
        "\n",
        "  nn_model.compile(optimizer=tf.keras.optimizers.Adam(lr), loss='sparse_categorical_crossentropy', metrics=['accuracy'])\n",
        "\n",
        "  history = nn_model.fit(X_train, y_train-1, epochs=epochs, batch_size=batch_size, validation_split=0.2, verbose = 0)\n",
        "\n",
        "  return nn_model, history"
      ],
      "metadata": {
        "id": "uAekH3wu1A-2"
      },
      "execution_count": null,
      "outputs": []
    },
    {
      "cell_type": "code",
      "source": [
        "least_val_loss = float('inf')\n",
        "least_loss_model = None\n",
        "epochs = 100\n",
        "for num_nodes in [16, 32, 64]:\n",
        "  for dropout_prob in [0, 0.2]:\n",
        "    for lr in [0.1, 0.005, 0.001]:\n",
        "      for batch_size in [32, 64, 128]:\n",
        "        print(f'num_nodes: {num_nodes}, dropout_prob: {dropout_prob}, lr: {lr}, batch_size: {batch_size}')\n",
        "        model, history = train_model(X_train, y_train, num_nodes, dropout_prob, lr, batch_size, epochs)\n",
        "        plot_history(history)\n",
        "        val_loss = model.evaluate(X_valid, y_valid-1)[0]\n",
        "        if val_loss < least_val_loss:\n",
        "          least_val_loss = val_loss\n",
        "          least_loss_model = model"
      ],
      "metadata": {
        "id": "ZZ_dJ-vlEbbS"
      },
      "execution_count": null,
      "outputs": []
    },
    {
      "cell_type": "code",
      "source": [
        "least_loss_model"
      ],
      "metadata": {
        "id": "AWYClbFBxPvB"
      },
      "execution_count": null,
      "outputs": []
    },
    {
      "cell_type": "code",
      "source": [
        "least_loss_model.save(\"nn_model.h5\")"
      ],
      "metadata": {
        "id": "zrGLmUI4aqtD"
      },
      "execution_count": null,
      "outputs": []
    },
    {
      "cell_type": "code",
      "source": [
        "y_pred = least_loss_model.predict(X_test)\n",
        "y_pred = np.argmax(y_pred, axis=1) + 1\n"
      ],
      "metadata": {
        "id": "wkjeM1VvC-Pw"
      },
      "execution_count": null,
      "outputs": []
    },
    {
      "cell_type": "code",
      "source": [
        "print(classification_report(y_test, y_pred))\n",
        "\n",
        "y_true_bin = np.where(np.isin(y_test, [2,3]), 1, 0)\n",
        "y_pred_bin = np.where(np.isin(y_pred, [2,3]), 1, 0)\n",
        "tn, fp, fn, tp = confusion_matrix(y_true_bin, y_pred_bin).ravel()\n",
        "print(\"False Negatives (FN):\", fn)\n",
        "print(fn/len(y_test))"
      ],
      "metadata": {
        "id": "p22R6n3fXjAh"
      },
      "execution_count": null,
      "outputs": []
    }
  ]
}